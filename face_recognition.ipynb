{
  "nbformat": 4,
  "nbformat_minor": 0,
  "metadata": {
    "colab": {
      "name": "face-recognition.ipynb",
      "provenance": [],
      "collapsed_sections": [],
      "toc_visible": true,
      "mount_file_id": "1aXmh7h9Xkt1KfxtMu3zHEqDmp2F2HYSQ",
      "authorship_tag": "ABX9TyMWmM1ba3U15QRbt2QWxj0t",
      "include_colab_link": true
    },
    "kernelspec": {
      "name": "python3",
      "display_name": "Python 3"
    }
  },
  "cells": [
    {
      "cell_type": "markdown",
      "metadata": {
        "id": "view-in-github",
        "colab_type": "text"
      },
      "source": [
        "<a href=\"https://colab.research.google.com/github/hosseinmoazami/face-recognition/blob/master/face_recognition.ipynb\" target=\"_parent\"><img src=\"https://colab.research.google.com/assets/colab-badge.svg\" alt=\"Open In Colab\"/></a>"
      ]
    },
    {
      "cell_type": "code",
      "metadata": {
        "id": "L4ZeaKe2Dyu-",
        "colab_type": "code",
        "colab": {}
      },
      "source": [
        "from keras.models import *\n",
        "from keras.layers import *\n",
        "import cv2\n",
        "import numpy as np\n",
        "from google.colab.patches import cv2_imshow\n",
        "from numpy import dot\n",
        "from numpy.linalg import norm\n",
        "import os"
      ],
      "execution_count": null,
      "outputs": []
    },
    {
      "cell_type": "code",
      "metadata": {
        "id": "DsooNBT8FCSY",
        "colab_type": "code",
        "colab": {}
      },
      "source": [
        "model = Sequential()\n",
        "model.add(ZeroPadding2D((1,1),input_shape=(224,224, 3)))\n",
        "model.add(Convolution2D(64, (3, 3), activation='relu'))\n",
        "model.add(ZeroPadding2D((1,1)))\n",
        "model.add(Convolution2D(64, (3, 3), activation='relu'))\n",
        "model.add(MaxPooling2D((2,2), strides=(2,2)))\n",
        " \n",
        "model.add(ZeroPadding2D((1,1)))\n",
        "model.add(Convolution2D(128, (3, 3), activation='relu'))\n",
        "model.add(ZeroPadding2D((1,1)))\n",
        "model.add(Convolution2D(128, (3, 3), activation='relu'))\n",
        "model.add(MaxPooling2D((2,2), strides=(2,2)))\n",
        " \n",
        "model.add(ZeroPadding2D((1,1)))\n",
        "model.add(Convolution2D(256, (3, 3), activation='relu'))\n",
        "model.add(ZeroPadding2D((1,1)))\n",
        "model.add(Convolution2D(256, (3, 3), activation='relu'))\n",
        "model.add(ZeroPadding2D((1,1)))\n",
        "model.add(Convolution2D(256, (3, 3), activation='relu'))\n",
        "model.add(MaxPooling2D((2,2), strides=(2,2)))\n",
        " \n",
        "model.add(ZeroPadding2D((1,1)))\n",
        "model.add(Convolution2D(512, (3, 3), activation='relu'))\n",
        "model.add(ZeroPadding2D((1,1)))\n",
        "model.add(Convolution2D(512, (3, 3), activation='relu'))\n",
        "model.add(ZeroPadding2D((1,1)))\n",
        "model.add(Convolution2D(512, (3, 3), activation='relu'))\n",
        "model.add(MaxPooling2D((2,2), strides=(2,2)))\n",
        " \n",
        "model.add(ZeroPadding2D((1,1)))\n",
        "model.add(Convolution2D(512, (3, 3), activation='relu'))\n",
        "model.add(ZeroPadding2D((1,1)))\n",
        "model.add(Convolution2D(512, (3, 3), activation='relu'))\n",
        "model.add(ZeroPadding2D((1,1)))\n",
        "model.add(Convolution2D(512, (3, 3), activation='relu'))\n",
        "model.add(MaxPooling2D((2,2), strides=(2,2)))\n",
        " \n",
        "model.add(Convolution2D(4096, (7, 7), activation='relu'))\n",
        "model.add(Dropout(0.5))\n",
        "model.add(Convolution2D(4096, (1, 1), activation='relu'))\n",
        "model.add(Dropout(0.5))\n",
        "model.add(Convolution2D(2622, (1, 1)))\n",
        "model.add(Flatten())\n",
        "model.add(Activation('softmax'))"
      ],
      "execution_count": null,
      "outputs": []
    },
    {
      "cell_type": "code",
      "metadata": {
        "id": "IsbW1EL6Fo2Z",
        "colab_type": "code",
        "colab": {
          "base_uri": "https://localhost:8080/",
          "height": 85
        },
        "outputId": "0c6e7441-faf7-4c24-8ebb-fe6d99e7a928"
      },
      "source": [
        "!gdown https://drive.google.com/uc?id=1CPSeum3HpopfomUEK1gybeuIVoeJT_Eo"
      ],
      "execution_count": null,
      "outputs": [
        {
          "output_type": "stream",
          "text": [
            "Downloading...\n",
            "From: https://drive.google.com/uc?id=1CPSeum3HpopfomUEK1gybeuIVoeJT_Eo\n",
            "To: /content/vgg_face_weights.h5\n",
            "580MB [00:08, 71.6MB/s]\n"
          ],
          "name": "stdout"
        }
      ]
    },
    {
      "cell_type": "code",
      "metadata": {
        "id": "ZQt_6EubF0SK",
        "colab_type": "code",
        "colab": {}
      },
      "source": [
        "model.load_weights('vgg_face_weights.h5')"
      ],
      "execution_count": null,
      "outputs": []
    },
    {
      "cell_type": "code",
      "metadata": {
        "id": "VszLqR0jHUWS",
        "colab_type": "code",
        "colab": {
          "base_uri": "https://localhost:8080/",
          "height": 289
        },
        "outputId": "3ba3d47a-ff14-4507-fbc1-da82a31b9274"
      },
      "source": [
        "! unzip \"/content/drive/My Drive/dataset.zip\""
      ],
      "execution_count": null,
      "outputs": [
        {
          "output_type": "stream",
          "text": [
            "Archive:  /content/drive/My Drive/dataset.zip\n",
            "   creating: dataset/\n",
            "  inflating: dataset/1.jpg           \n",
            "  inflating: dataset/2.jpg           \n",
            "  inflating: dataset/3.jpg           \n",
            "  inflating: dataset/4.jpg           \n",
            "  inflating: dataset/5.jpg           \n",
            "  inflating: dataset/6.jpg           \n",
            "  inflating: dataset/7.jpg           \n",
            "  inflating: dataset/8.jpg           \n",
            "  inflating: dataset/9.jpg           \n",
            "  inflating: dataset/10.jpg          \n",
            "  inflating: dataset/11.jpg          \n",
            "  inflating: dataset/12.jpg          \n",
            "  inflating: dataset/13.jpg          \n",
            "  inflating: dataset/14.jpg          \n"
          ],
          "name": "stdout"
        }
      ]
    },
    {
      "cell_type": "code",
      "metadata": {
        "id": "PMRqA4aoHgqR",
        "colab_type": "code",
        "colab": {}
      },
      "source": [
        "vgg_face_descriptor = Model(inputs=model.layers[0].input\n",
        ", outputs=model.layers[-2].output)"
      ],
      "execution_count": null,
      "outputs": []
    },
    {
      "cell_type": "code",
      "metadata": {
        "id": "RCLBRBznH-jK",
        "colab_type": "code",
        "colab": {}
      },
      "source": [
        "def get_face_img(filename):\n",
        "  path = \"/content/dataset/\" + filename + \".jpg\"\n",
        "  img = cv2.imread(path)\n",
        "  img = cv2.resize(img, (224, 224))\n",
        "  cv2_imshow(img)\n",
        "  img = np.expand_dims(img, axis=0)\n",
        "  return vgg_face_descriptor.predict(img)[0]"
      ],
      "execution_count": null,
      "outputs": []
    },
    {
      "cell_type": "code",
      "metadata": {
        "id": "yAiO_g6oJvhi",
        "colab_type": "code",
        "colab": {}
      },
      "source": [
        "def similarity(img1, img2):\n",
        "  return dot(img1, img2)/(norm(img1)*norm(img2))"
      ],
      "execution_count": null,
      "outputs": []
    },
    {
      "cell_type": "code",
      "metadata": {
        "id": "n54WiyP6NF3N",
        "colab_type": "code",
        "colab": {
          "base_uri": "https://localhost:8080/",
          "height": 136
        },
        "outputId": "daa08ecd-f8a5-4650-97f5-984865dd01af"
      },
      "source": [
        "Hamed = get_face_img(\"Hamed\")\n",
        "#Mahdi = get_face_img(\"Mehdi\")\n",
        "for item in os.listdir(\"/content/dataset\"):\n",
        "  file_name = item.split(\".\")[0]\n",
        "  # There is an hidden file in directory, By this line we pass it\n",
        "  if file_name is \"\":\n",
        "    continue\n",
        "  img = get_face_img(file_name)\n",
        "  is_similar = similarity(Hamed, img)\n",
        "  if is_similar > 0.7:\n",
        "    print(item)"
      ],
      "execution_count": null,
      "outputs": [
        {
          "output_type": "stream",
          "text": [
            "5.jpg\n",
            "Hamed.jpg\n",
            "6.jpg\n",
            "2.jpg\n",
            "7.jpg\n",
            "3.jpg\n",
            "4.jpg\n"
          ],
          "name": "stdout"
        }
      ]
    }
  ]
}